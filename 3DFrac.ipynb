{
 "cells": [
  {
   "cell_type": "code",
   "execution_count": 12,
   "id": "97a4a8af",
   "metadata": {},
   "outputs": [],
   "source": [
    "import pandas as pd\n",
    "import numpy as np\n",
    "import matplotlib.pyplot as plt\n",
    "import os\n",
    "\n",
    "from imea.measure_2d.micro import  fractal_dimension_boxcounting as fract_dim\n",
    "import multiprocessing as mp\n",
    "\n",
    "import time\n",
    "import cv2\n",
    "import nibabel as nb\n",
    "\n",
    "import warnings\n",
    "warnings.filterwarnings('ignore')"
   ]
  },
  {
   "cell_type": "code",
   "execution_count": 13,
   "id": "01887d0a",
   "metadata": {},
   "outputs": [
    {
     "data": {
      "text/plain": [
       "0"
      ]
     },
     "execution_count": 13,
     "metadata": {},
     "output_type": "execute_result"
    }
   ],
   "source": [
    "fract_dim(np.zeros((100,100)))"
   ]
  },
  {
   "cell_type": "markdown",
   "id": "19c54e83-3b1a-4489-99b0-4c495035768b",
   "metadata": {},
   "source": [
    "## Fractal Dimension Calculation using Box Counting Algorithm"
   ]
  },
  {
   "cell_type": "code",
   "execution_count": 14,
   "id": "6930eba2",
   "metadata": {},
   "outputs": [],
   "source": [
    "def fract(x):\n",
    "    '''x is a slice'''\n",
    "\n",
    "    x = x.astype(np.uint8)    \n",
    "    y = x    \n",
    "    bin_ = np.zeros((x.shape[0], x.shape[1]))    \n",
    "    bin_[x!=0] = 1\n",
    "    bin_ = bin_.astype(np.uint8)\n",
    "    \n",
    "    contours = cv2.findContours(image = bin_, mode = cv2.RETR_TREE, method = cv2.CHAIN_APPROX_SIMPLE)[0]\n",
    "    contours = sorted(contours, key = cv2.contourArea, reverse = True)\n",
    "\n",
    "    if len(contours) == 0:\n",
    "        return 0\n",
    "\n",
    "    c_0 = contours[0]       #Get the 4 points of the bounding rectangle\n",
    "    xx, yy, w, h = cv2.boundingRect(c_0)\n",
    "    X  =  y[yy:yy+h, xx:xx+w]\n",
    "    \n",
    "    \n",
    "    XX = np.zeros((X.shape[0], X.shape[1]))    \n",
    "    XX[X==1] = 1\n",
    "    ncrnet =  fract_dim(XX)\n",
    "    \n",
    "    \n",
    "    XX = np.zeros((X.shape[0], X.shape[1]))    \n",
    "    XX[X==2] = 1\n",
    "    ed =  fract_dim(XX)\n",
    "    \n",
    "    \n",
    "    XX = np.zeros((X.shape[0], X.shape[1]))    \n",
    "    XX[X==4] = 1\n",
    "    et =  fract_dim(XX)\n",
    "    \n",
    "    \n",
    "    return np.array([ncrnet, ed, et])"
   ]
  },
  {
   "cell_type": "markdown",
   "id": "f5d0b496-f497-4454-b283-85bf299bdff1",
   "metadata": {},
   "source": [
    "## Mean and Median FD of each subcomponent"
   ]
  },
  {
   "cell_type": "code",
   "execution_count": 15,
   "id": "14d9195f",
   "metadata": {},
   "outputs": [],
   "source": [
    "def fd_(X):\n",
    "    X = X.astype(np.uint8)\n",
    "    \n",
    "    X = np.delete(X, [i for i in range(0, X.shape[2]) if np.sum(X[:, :, i].ravel()) < 10], axis=2)\n",
    "    \n",
    "    X_slices = [X[:, :, i] for i in range(X.shape[2])]\n",
    "    \n",
    "    fd = np.array([fract(x) for x in X_slices])\n",
    "    \n",
    "    n_mean =  np.mean(fd[:,0])\n",
    "    n_med =  np.median(fd[:,0])\n",
    "    \n",
    "    ed_mean =  np.mean(fd[:,1])\n",
    "    ed_med =  np.median(fd[:,1])\n",
    "    \n",
    "    et_mean =  np.mean(fd[:,2])\n",
    "    et_med =  np.median(fd[:,2])\n",
    "                   \n",
    "    return  np.array([n_mean, n_med, ed_mean, ed_med, et_mean, et_med])"
   ]
  },
  {
   "cell_type": "code",
   "execution_count": 16,
   "id": "3bfaa5a0-58ce-4bb9-8ced-adc162ad2e99",
   "metadata": {},
   "outputs": [],
   "source": [
    "def fd_cor(X):\n",
    "    \n",
    "    X = X.astype(np.uint8)      \n",
    "    X = np.delete(X, [i for i in range(0, X.shape[1]) if np.sum(X[:, i, :].ravel()) < 10], axis=1)\n",
    "    \n",
    "    X_slices = [X[:, i, :] for i in range(X.shape[1])]\n",
    "    fd = np.array([fract(x) for x in X_slices])\n",
    "    \n",
    "    n_mean =  np.mean(fd[:,0])\n",
    "    n_med =  np.median(fd[:,0])\n",
    "    \n",
    "    ed_mean =  np.mean(fd[:,1])\n",
    "    ed_med =  np.median(fd[:,1])\n",
    "    \n",
    "    et_mean =  np.mean(fd[:,2])\n",
    "    et_med =  np.median(fd[:,2])\n",
    "                   \n",
    "    return  np.array([n_mean, n_med, ed_mean, ed_med, et_mean, et_med])"
   ]
  },
  {
   "cell_type": "code",
   "execution_count": 17,
   "id": "f9be6e86-81bc-457c-bc10-ee5e12003ac1",
   "metadata": {},
   "outputs": [],
   "source": [
    "def fd_sag(X):       \n",
    "    X = X.astype(np.uint8)      \n",
    "    X = np.delete(X, [i for i in range(0, X.shape[0]) if np.sum(X[i, :, :].ravel()) < 10], axis=0)\n",
    "    \n",
    "    X_slices = [X[i, :, :] for i in range(X.shape[0])]\n",
    "    fd = np.array([fract(x) for x in X_slices])\n",
    "    \n",
    "    \n",
    "    n_mean =  np.mean(fd[:,0])\n",
    "    n_med =  np.median(fd[:,0])\n",
    "    \n",
    "    ed_mean =  np.mean(fd[:,1])\n",
    "    ed_med =  np.median(fd[:,1])\n",
    "    \n",
    "    et_mean =  np.mean(fd[:,2])\n",
    "    et_med =  np.median(fd[:,2])\n",
    "                   \n",
    "    return  np.array([n_mean, n_med, ed_mean, ed_med, et_mean, et_med]) "
   ]
  },
  {
   "cell_type": "markdown",
   "id": "d3874db6-73b0-41e6-b8b9-8dcc1d55c1a6",
   "metadata": {},
   "source": [
    "## Running defined functions on text files containing path to the .nii.gz files"
   ]
  },
  {
   "cell_type": "markdown",
   "id": "1d7e323e-a83e-4bda-9414-35c95292574e",
   "metadata": {},
   "source": [
    "### GBM"
   ]
  },
  {
   "cell_type": "code",
   "execution_count": 18,
   "id": "d8b29897",
   "metadata": {},
   "outputs": [
    {
     "name": "stdout",
     "output_type": "stream",
     "text": [
      "Runtime: 20.677095890045166 seconds\n",
      "TCGA-02-0006\n"
     ]
    }
   ],
   "source": [
    "gbm_fd = []\n",
    "t0 = time.time()\n",
    "\n",
    "with open('gbm_input.txt') as file:      #text file containing filenames\n",
    "    for fl in file:\n",
    "        try:\n",
    "            gbm_fd.append(fd_(nb.load(r'{}'.format(fl.rstrip())).get_fdata())) \n",
    "        except:\n",
    "            continue\n",
    "        \n",
    "\n",
    "print('Runtime:' , time.time() - t0 , 'seconds') \n",
    "x = np.array(gbm_fd)\n",
    "\n",
    "case_id = []\n",
    "\n",
    "with open('gbm_input.txt') as file:\n",
    "    for fl in file:\n",
    "        case_id.append(fl.split('\\\\')[5])    #Number is the position of subject code in tha path filename\n",
    "        \n",
    "print(case_id[0])    #to check what is being printed\n",
    "\n",
    "\n",
    "gbm_fract_dim = pd.DataFrame({'case_id':case_id,\n",
    "                          'ncr_net_meanfd': x[:, 0], 'ncr_net_medfd': x[:, 1],\n",
    "                         'ed_meanfd': x[:, 2], 'ed_medfd':x[:, 3],\n",
    "                         'et_meanfd': x[:, 4], 'et_medfd': x[:, 5]})\n",
    "\n",
    "gbm_fract_dim.to_csv('gbm_frac_dim.csv', index=False)"
   ]
  },
  {
   "cell_type": "markdown",
   "id": "198918e3-b4d9-4651-b101-6e7e6de19c41",
   "metadata": {},
   "source": [
    "### LGG"
   ]
  },
  {
   "cell_type": "code",
   "execution_count": 19,
   "id": "86707bf2",
   "metadata": {},
   "outputs": [
    {
     "name": "stdout",
     "output_type": "stream",
     "text": [
      "Runtime: 11.820613861083984 seconds\n",
      "TCGA-CS-4942\n"
     ]
    }
   ],
   "source": [
    "lgg_fd = []\n",
    "t0 = time.time()\n",
    "\n",
    "with open('lgg_input.txt') as file:\n",
    "    for fl in file:\n",
    "        lgg_fd.append(fd_(nb.load(r'{}'.format(fl.rstrip())).get_fdata()))  \n",
    "\n",
    "print('Runtime:', time.time() - t0 , 'seconds')  \n",
    "x = np.array(lgg_fd)\n",
    "\n",
    "\n",
    "case_id2 = []\n",
    "\n",
    "with open('lgg_input.txt') as file:\n",
    "    for fl in file:\n",
    "        case_id2.append(fl.split('\\\\')[5])\n",
    "\n",
    "print(case_id2[0])\n",
    "\n",
    "\n",
    "lgg_fract_dim = pd.DataFrame({'case_id':case_id2,\n",
    "                          'ncr_net_meanfd': x[:, 0], 'ncr_net_medfd': x[:, 1],\n",
    "                         'ed_meanfd': x[:, 2], 'ed_medfd':x[:, 3],\n",
    "                         'et_meanfd': x[:, 4], 'et_medfd': x[:, 5]})\n",
    "\n",
    "lgg_fract_dim.to_csv('lgg_frac_dim.csv', index=False)"
   ]
  },
  {
   "cell_type": "markdown",
   "id": "3b0b8fd3-a6fe-4372-b3ee-61d4f7ec9516",
   "metadata": {},
   "source": [
    "## Coronal FD"
   ]
  },
  {
   "cell_type": "code",
   "execution_count": 20,
   "id": "1e1526d3-30cd-4444-8002-a14fb5ac8b4b",
   "metadata": {},
   "outputs": [
    {
     "name": "stdout",
     "output_type": "stream",
     "text": [
      "Runtime: 20.746455192565918 seconds\n",
      "TCGA-02-0006\n"
     ]
    }
   ],
   "source": [
    "gbm_fd = []\n",
    "t0 = time.time()\n",
    "\n",
    "with open('gbm_input.txt') as file:      #text file containing filenames\n",
    "    for fl in file:\n",
    "        try:\n",
    "            gbm_fd.append(fd_cor(nb.load(r'{}'.format(fl.rstrip())).get_fdata())) \n",
    "        except:\n",
    "            continue\n",
    "        \n",
    "\n",
    "print('Runtime:', time.time() - t0 , 'seconds') \n",
    "x = np.array(gbm_fd)\n",
    "\n",
    "case_id = []\n",
    "\n",
    "with open('gbm_input.txt') as file:\n",
    "    for fl in file:\n",
    "        case_id.append(fl.split('\\\\')[5])    #Number is the position of subject code in tha path filename\n",
    "        \n",
    "print(case_id[0])    #to check what is being printed\n",
    "\n",
    "\n",
    "gbm_fract_dim_cor = pd.DataFrame({'case_id':case_id,\n",
    "                          'ncr_net_meanfd_cor': x[:, 0], 'ncr_net_medfd_cor': x[:, 1],\n",
    "                         'ed_meanfd_cor': x[:, 2], 'ed_medfd_cor':x[:, 3],\n",
    "                         'et_meanfd_cor': x[:, 4], 'et_medfd_cor': x[:, 5]})\n",
    "\n",
    "gbm_fract_dim.to_csv('gbm_frac_dim_cor.csv', index=False)"
   ]
  },
  {
   "cell_type": "code",
   "execution_count": 21,
   "id": "ee91e990-07c3-4346-9a41-b1898d2cd8c5",
   "metadata": {},
   "outputs": [
    {
     "name": "stdout",
     "output_type": "stream",
     "text": [
      "Runtime: 12.124009370803833 seconds\n",
      "TCGA-CS-4942\n"
     ]
    }
   ],
   "source": [
    "lgg_fd = []\n",
    "t0 = time.time()\n",
    "\n",
    "with open('lgg_input.txt') as file:\n",
    "    for fl in file:\n",
    "        lgg_fd.append(fd_cor(nb.load(r'{}'.format(fl.rstrip())).get_fdata()))  \n",
    "\n",
    "print('Runtime:', time.time() - t0 , 'seconds')  \n",
    "x = np.array(lgg_fd)\n",
    "\n",
    "\n",
    "case_id2 = []\n",
    "\n",
    "with open('lgg_input.txt') as file:\n",
    "    for fl in file:\n",
    "        case_id2.append(fl.split('\\\\')[5])\n",
    "\n",
    "print(case_id2[0])\n",
    "\n",
    "lgg_fract_dim_cor = pd.DataFrame({'case_id':case_id2,\n",
    "                          'ncr_net_meanfd_cor': x[:, 0], 'ncr_net_medfd_cor': x[:, 1],\n",
    "                         'ed_meanfd_cor': x[:, 2], 'ed_medfd_cor':x[:, 3],\n",
    "                         'et_meanfd_cor': x[:, 4], 'et_medfd_cor': x[:, 5]})\n",
    "\n",
    "lgg_fract_dim.to_csv('lgg_frac_dim_cor.csv', index=False)"
   ]
  },
  {
   "cell_type": "markdown",
   "id": "ece99d12-06ed-486a-92ca-1dd1a3cf9e7f",
   "metadata": {},
   "source": [
    "## Sagittal FD"
   ]
  },
  {
   "cell_type": "code",
   "execution_count": 22,
   "id": "eeec39aa-7fe8-4169-abf9-6663448c7854",
   "metadata": {},
   "outputs": [
    {
     "name": "stdout",
     "output_type": "stream",
     "text": [
      "Runtime: 20.586206912994385 seconds\n",
      "TCGA-02-0006\n"
     ]
    }
   ],
   "source": [
    "gbm_fd = []\n",
    "t0 = time.time()\n",
    "\n",
    "with open('gbm_input.txt') as file:      #text file containing filenames\n",
    "    for fl in file:\n",
    "        try:\n",
    "            gbm_fd.append(fd_sag(nb.load(r'{}'.format(fl.rstrip())).get_fdata())) \n",
    "        except:\n",
    "            continue\n",
    "        \n",
    "\n",
    "print('Runtime:', time.time() - t0 , 'seconds') \n",
    "x = np.array(gbm_fd)\n",
    "\n",
    "case_id = []\n",
    "\n",
    "with open('gbm_input.txt') as file:\n",
    "    for fl in file:\n",
    "        case_id.append(fl.split('\\\\')[5])    #Number is the position of subject code in tha path filename\n",
    "        \n",
    "print(case_id[0])    #to check what is being printed\n",
    "\n",
    "\n",
    "gbm_fract_dim_sag = pd.DataFrame({'case_id':case_id,\n",
    "                          'ncr_net_meanfd_sag': x[:, 0], 'ncr_net_medfd_sag': x[:, 1],\n",
    "                         'ed_meanfd_sag': x[:, 2], 'ed_medfd_sag':x[:, 3],\n",
    "                         'et_meanfd_sag': x[:, 4], 'et_medfd_sag': x[:, 5]})\n",
    "\n",
    "gbm_fract_dim.to_csv('gbm_frac_dim_sag.csv', index=False)"
   ]
  },
  {
   "cell_type": "code",
   "execution_count": 23,
   "id": "ea958f1e-f141-41d3-9187-7d8adf9d9f52",
   "metadata": {},
   "outputs": [
    {
     "name": "stdout",
     "output_type": "stream",
     "text": [
      "Runtime:  13.099388122558594 seconds\n",
      "TCGA-CS-4942\n"
     ]
    }
   ],
   "source": [
    "lgg_fd = []\n",
    "t0 = time.time()\n",
    "\n",
    "with open('lgg_input.txt') as file:\n",
    "    for fl in file:\n",
    "        lgg_fd.append(fd_sag(nb.load(r'{}'.format(fl.rstrip())).get_fdata()))  \n",
    "\n",
    "print('Runtime: ', time.time() - t0 , 'seconds')  \n",
    "x = np.array(lgg_fd)\n",
    "\n",
    "\n",
    "case_id2 = []\n",
    "\n",
    "with open('lgg_input.txt') as file:\n",
    "    for fl in file:\n",
    "        case_id2.append(fl.split('\\\\')[5])\n",
    "\n",
    "print(case_id2[0])\n",
    "\n",
    "lgg_fract_dim_sag = pd.DataFrame({'case_id':case_id2,\n",
    "                          'ncr_net_meanfd_sag': x[:, 0], 'ncr_net_medfd_sag': x[:, 1],\n",
    "                         'ed_meanfd_sag': x[:, 2], 'ed_medfd_sag':x[:, 3],\n",
    "                         'et_meanfd_sag': x[:, 4], 'et_medfd_sag': x[:, 5]})\n",
    "\n",
    "\n",
    "lgg_fract_dim.to_csv('lgg_frac_dim_sag.csv', index=False)"
   ]
  },
  {
   "cell_type": "code",
   "execution_count": 29,
   "id": "f4d97452-7ee1-4b42-99c3-e92ff03c765f",
   "metadata": {},
   "outputs": [],
   "source": [
    "df_merged = pd.concat([lgg_fract_dim, gbm_fract_dim])\n",
    "df_merged_cor = pd.concat([lgg_fract_dim_cor, gbm_fract_dim_cor])\n",
    "df_merged_sag = pd.concat([lgg_fract_dim_sag, gbm_fract_dim_sag])\n",
    "\n",
    "frac_temp = pd.merge(df_merged, df_merged_cor, on='case_id', how='inner')\n",
    "frac_merged = pd.merge(frac_temp, df_merged_sag, on='case_id', how='inner')"
   ]
  },
  {
   "cell_type": "code",
   "execution_count": 30,
   "id": "0c4e10a3-f07b-4a33-ab40-4bdf88438052",
   "metadata": {},
   "outputs": [],
   "source": [
    "selected_columns = ['ncr_net_meanfd', 'ncr_net_meanfd_cor', 'ncr_net_meanfd_sag']\n",
    "mean_values = frac_merged[selected_columns].mean(axis=1)\n",
    "frac_merged['ncr_net_mean3dfd'] = mean_values\n",
    "\n",
    "selected_columns2 = ['et_meanfd', 'et_meanfd_cor', 'et_meanfd_sag']\n",
    "mean_values2 = frac_merged[selected_columns2].mean(axis=1)\n",
    "frac_merged['et_mean3dfd'] = mean_values2\n",
    "\n",
    "selected_columns3 = ['ed_meanfd', 'ed_meanfd_cor', 'ed_meanfd_sag']\n",
    "mean_values3 = frac_merged[selected_columns3].mean(axis=1)\n",
    "frac_merged['ed_mean3dfd'] = mean_values3"
   ]
  },
  {
   "cell_type": "code",
   "execution_count": 32,
   "id": "91cfb85d-e91a-4f83-8458-48fb58e50353",
   "metadata": {},
   "outputs": [],
   "source": [
    "frac_merged.to_csv('3Dfrac.csv', index=False)"
   ]
  },
  {
   "cell_type": "code",
   "execution_count": null,
   "id": "7e1120e0",
   "metadata": {},
   "outputs": [],
   "source": []
  }
 ],
 "metadata": {
  "kernelspec": {
   "display_name": "Python 3 (ipykernel)",
   "language": "python",
   "name": "python3"
  },
  "language_info": {
   "codemirror_mode": {
    "name": "ipython",
    "version": 3
   },
   "file_extension": ".py",
   "mimetype": "text/x-python",
   "name": "python",
   "nbconvert_exporter": "python",
   "pygments_lexer": "ipython3",
   "version": "3.10.12"
  }
 },
 "nbformat": 4,
 "nbformat_minor": 5
}
