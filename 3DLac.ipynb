{
 "cells": [
  {
   "cell_type": "code",
   "execution_count": 1,
   "id": "a8e57c81",
   "metadata": {},
   "outputs": [],
   "source": [
    "import pandas as pd\n",
    "import numpy as np\n",
    "import os\n",
    "\n",
    "from scipy.signal import convolve2d as conv2d\n",
    "import time\n",
    "import cv2\n",
    "import nibabel as nb\n",
    "# from imea.measure_2d.micro import fractal_dimension_boxcounting as fract_dim\n",
    "\n",
    "import warnings\n",
    "warnings.filterwarnings('ignore')"
   ]
  },
  {
   "cell_type": "code",
   "execution_count": 2,
   "id": "f9c135d0",
   "metadata": {},
   "outputs": [],
   "source": [
    "def lac1(x):\n",
    "    bin_ = np.zeros((x.shape[0], x.shape[1]))\n",
    "    bin_[x!=0] = 1\n",
    "    bin_ = bin_.astype(np.uint8)\n",
    "    \n",
    "    contours = cv2.findContours(image = bin_, mode = cv2.RETR_TREE, method = cv2.CHAIN_APPROX_SIMPLE)[0]\n",
    "    contours = sorted(contours, key = cv2.contourArea, reverse = True)\n",
    "    \n",
    "    if len(contours) == 0:\n",
    "        return 0\n",
    "    \n",
    "    c_0 = contours[0]               #Get the 4 points of the bounding rectangle\n",
    "    xx, yy, w, h = cv2.boundingRect(c_0)\n",
    "    X  =  x[yy:yy+h, xx:xx+w]\n",
    "\n",
    "    box_size =  [i for i in range(2, 240) if ((i)**2 < (0.45)*(X.shape[0]* X.shape[1])) and i <= min(X.shape[0], X.shape[1])]\n",
    "\n",
    "    LAMBDA = []\n",
    "    \n",
    "    XX = np.zeros((X.shape[0], X.shape[1]))\n",
    "    \n",
    "    XX[X==1] = 1\n",
    "  \n",
    "    for box in box_size:\n",
    "        count = []\n",
    "        count, edge= np.histogram(np.ravel(conv2d(XX, np.ones((box, box)), mode = 'valid')), bins = [i for i in range(0, (box**2) + 2)])#(box**2) + 1)\n",
    "        q = count/(XX.shape[0] - box + 1)**2\n",
    "        s = np.array([i for i in range(0,box**2 + 1)])\n",
    "        lam_bda =  sum((s**2)*q)/(sum(q*s))**2\n",
    "        \n",
    "     \n",
    "        LAMBDA.append(lam_bda)\n",
    "        \n",
    "    return np.nanmean(LAMBDA)"
   ]
  },
  {
   "cell_type": "code",
   "execution_count": 3,
   "id": "8342de75",
   "metadata": {},
   "outputs": [],
   "source": [
    "def lac2(x):\n",
    "    bin_ = np.zeros((x.shape[0], x.shape[1]))\n",
    "    bin_[x!=0] = 1\n",
    "    bin_ = bin_.astype(np.uint8)\n",
    "\n",
    "    contours = cv2.findContours(image = bin_, mode = cv2.RETR_TREE, method = cv2.CHAIN_APPROX_SIMPLE)[0]\n",
    "    contours = sorted(contours, key = cv2.contourArea, reverse = True)\n",
    "    \n",
    "    if len(contours) == 0:\n",
    "        return 0\n",
    "    \n",
    "    c_0 = contours[0]               #Get the 4 points of the bounding rectangle\n",
    "    xx, yy, w, h = cv2.boundingRect(c_0)\n",
    "    X  =  x[yy:yy+h, xx:xx+w]\n",
    "\n",
    "    box_size =  [i for i in range(2, 240) if ((i)**2 < (0.45)*(X.shape[0]* X.shape[1])) and i <= min(X.shape[0], X.shape[1])]\n",
    "\n",
    "    LAMBDA = []\n",
    "\n",
    "    XX = np.zeros((X.shape[0], X.shape[1]))\n",
    "    XX[X==2] = 1\n",
    "  \n",
    "    for box in box_size:\n",
    "        count = []\n",
    "        count, edge= np.histogram(np.ravel(conv2d(XX, np.ones((box, box)), mode = 'valid')), bins = [i for i in range(0, (box**2) + 2)])#(box**2) + 1)\n",
    "        q = count/(XX.shape[0] - box + 1)**2\n",
    "        s = np.array([i for i in range(0,box**2 + 1)])\n",
    "        lam_bda =  sum((s**2)*q)/(sum(q*s))**2\n",
    "\n",
    "\n",
    "        LAMBDA.append(lam_bda)\n",
    "        \n",
    "    return np.nanmean(LAMBDA)"
   ]
  },
  {
   "cell_type": "code",
   "execution_count": 4,
   "id": "b46b050f",
   "metadata": {},
   "outputs": [],
   "source": [
    "def lac4(x):\n",
    "    bin_ = np.zeros((x.shape[0], x.shape[1]))\n",
    "    bin_[x!=0] = 1\n",
    "    bin_ = bin_.astype(np.uint8)\n",
    "\n",
    "    contours = cv2.findContours(image = bin_, mode = cv2.RETR_TREE, method = cv2.CHAIN_APPROX_SIMPLE)[0]\n",
    "    contours = sorted(contours, key = cv2.contourArea, reverse = True)\n",
    "    \n",
    "    if len(contours) == 0:\n",
    "        return 0\n",
    "    \n",
    "    c_0 = contours[0]               #Get the 4 points of the bounding rectangle\n",
    "    xx, yy, w, h = cv2.boundingRect(c_0)\n",
    "    X  =  x[yy:yy+h, xx:xx+w]\n",
    "    \n",
    "    box_size =  [i for i in range(2, 240) if ((i)**2 < (0.45)*(X.shape[0]* X.shape[1])) and i <= min(X.shape[0], X.shape[1])]\n",
    "\n",
    "    LAMBDA = []\n",
    "    \n",
    "    XX = np.zeros((X.shape[0], X.shape[1]))\n",
    "    \n",
    "    XX[X==4] = 1\n",
    "  \n",
    "    for box in box_size:\n",
    "        count = []\n",
    "        count, edge= np.histogram(np.ravel(conv2d(XX, np.ones((box, box)), mode = 'valid')), bins = [i for i in range(0, (box**2) + 2)])#(box**2) + 1)\n",
    "        q = count/(XX.shape[0] - box + 1)**2\n",
    "        s = np.array([i for i in range(0,box**2 + 1)])\n",
    "        lam_bda =  sum((s**2)*q)/(sum(q*s))**2\n",
    "\n",
    "        LAMBDA.append(lam_bda)\n",
    "    # print(LAMBDA)\n",
    "        \n",
    "    return np.mean(LAMBDA)"
   ]
  },
  {
   "cell_type": "code",
   "execution_count": 5,
   "id": "ef64b4ff",
   "metadata": {},
   "outputs": [],
   "source": [
    "def frac_lac(X):\n",
    "    X = X.astype(np.uint8)\n",
    "\n",
    "\n",
    "    X = np.delete(X, [i for i in range(0, 155) if np.sum(X[:,:,i].ravel()) < 15], 2)\n",
    "    \n",
    "    X_n = np.delete(X, [i for i in range(0, X.shape[-1]) if np.sum(X[:,:,i].ravel() == 1) < 12], 2)\n",
    "    X_et = np.delete(X, [i for i in range(0, X.shape[-1]) if np.sum(X[:,:,i].ravel() == 4) < 6], 2)\n",
    "    X_ed = np.delete(X, [i for i in range(0, X.shape[-1]) if np.sum(X[:,:,i].ravel() == 2) < 6], 2)\n",
    "    \n",
    "\n",
    "    X_n = [X_n[:,:,i] for i in range(0,X_n.shape[-1]) ]\n",
    "    X_et = [X_et[:,:,i] for i in range(0,X_et.shape[-1]) ]\n",
    "    X_ed = [X_ed[:,:,i] for i in range(0,X_ed.shape[-1]) ]\n",
    "    \n",
    "    nc = np.array([lac1(x) for x in X_n])\n",
    "    ed = np.array([lac2(x) for x in X_ed])\n",
    "    et = np.array([lac4(x) for x in X_et])\n",
    "\n",
    "    n_mean =  np.nanmean(nc)\n",
    "    n_med =  np.nanmedian(nc)\n",
    "    \n",
    "    ed_mean =  np.nanmean(ed)\n",
    "    ed_med =  np.nanmedian(ed)\n",
    "    \n",
    "    et_mean =  np.nanmean(et)\n",
    "    et_med =  np.nanmedian(et)\n",
    "\n",
    "    return  np.array([n_mean, n_med, ed_mean, ed_med, et_mean, et_med])"
   ]
  },
  {
   "cell_type": "code",
   "execution_count": 6,
   "id": "ffe1b100",
   "metadata": {},
   "outputs": [
    {
     "name": "stdout",
     "output_type": "stream",
     "text": [
      "Runtime: 1554.810474395752 seconds\n",
      "TCGA-02-0006\n"
     ]
    }
   ],
   "source": [
    "gbm_lac = []\n",
    "t0 = time.time()\n",
    "\n",
    "with open('gbm_input.txt') as file:    \n",
    "    for fl in file:\n",
    "        try:\n",
    "            gbm_lac.append(frac_lac(nb.load(r'{}'.format(fl.rstrip())).get_fdata()))\n",
    "        except:\n",
    "            continue\n",
    "        \n",
    "print('Runtime:', time.time() - t0 , 'seconds')  \n",
    "x = np.array(gbm_lac)\n",
    "\n",
    "\n",
    "case_id = []\n",
    "with open('gbm_input.txt') as file:\n",
    "    for fl in file:\n",
    "        case_id.append(fl.split('\\\\')[5])    #Number is the position of subject code in tha path filename\n",
    "        \n",
    "print(case_id[0])    #to check what is being printed\n",
    "        \n",
    "        \n",
    "gbm_lac_df = pd.DataFrame({'case_id':case_id,\n",
    "                          'ncr_net_meanlac': x[:, 0], 'ncr_net_medlac': x[:, 1],\n",
    "                         'ed_meanlac': x[:, 2], 'ed_medlac':x[:, 3],\n",
    "                         'et_meanlac': x[:, 4], 'et_medlac': x[:, 5]})\n",
    "\n",
    "# gbm_lac.to_csv('gbm_lac.csv')"
   ]
  },
  {
   "cell_type": "code",
   "execution_count": 7,
   "id": "26cc5bad",
   "metadata": {},
   "outputs": [
    {
     "name": "stdout",
     "output_type": "stream",
     "text": [
      "Runtime: 1075.1896278858185 seconds\n",
      "TCGA-CS-4942\n"
     ]
    }
   ],
   "source": [
    "lgg_lac = []\n",
    "t0 = time.time()\n",
    "\n",
    "with open('lgg_input.txt') as file:    \n",
    "    for fl in file:\n",
    "        try:\n",
    "            lgg_lac.append(frac_lac(nb.load(r'{}'.format(fl.rstrip())).get_fdata()))\n",
    "        except:\n",
    "            continue\n",
    "        \n",
    "print('Runtime:', time.time() - t0 , 'seconds')  \n",
    "x = np.array(lgg_lac)\n",
    "\n",
    "\n",
    "case_id2 = []\n",
    "\n",
    "with open('lgg_input.txt') as file:\n",
    "    for fl in file:\n",
    "        case_id2.append(fl.split('\\\\')[5])    #Number is the position of subject code in tha path filename\n",
    "        \n",
    "print(case_id2[0])    #to check what is being printed\n",
    "        \n",
    "        \n",
    "lgg_lac_df = pd.DataFrame({'case_id':case_id2,\n",
    "                          'ncr_net_meanlac': x[:, 0], 'ncr_net_medlac': x[:, 1],\n",
    "                         'ed_meanlac': x[:, 2], 'ed_medlac':x[:, 3],\n",
    "                         'et_meanlac': x[:, 4], 'et_medlac': x[:, 5]})\n",
    "\n",
    "# lgg_lac.to_csv('lgg_lac.csv')"
   ]
  },
  {
   "cell_type": "code",
   "execution_count": 8,
   "id": "4cb8dffa",
   "metadata": {},
   "outputs": [],
   "source": [
    "df = pd.concat([gbm_lac_df, lgg_lac_df])\n",
    "df.to_csv('lac_merged.csv', index=False)"
   ]
  },
  {
   "cell_type": "code",
   "execution_count": null,
   "id": "0f012bc7",
   "metadata": {},
   "outputs": [],
   "source": [
    "import os\n",
    "import nbformat\n",
    "from nbconvert.preprocessors import ExecutePreprocessor\n",
    "\n",
    "notebook_filename_list = ['3DLac_cor.ipynb','3DLac_sag.ipynb']\n",
    "\n",
    "for notebook_filename in notebook_filename_list:\n",
    "    before_files = set(os.listdir('.'))\n",
    "\n",
    "    with open(notebook_filename) as f:\n",
    "        notebook = nbformat.read(f, as_version=4)\n",
    "\n",
    "\n",
    "    ep = ExecutePreprocessor(kernel_name='python3')\n",
    "\n",
    "    try:\n",
    "        ep.preprocess(notebook, {'metadata': {'path': './'}})\n",
    "        print(f'{notebook_filename} executed successfully!')\n",
    "    except Exception as e:\n",
    "        print(f'Error executing {notebook_filename}: {e}')\n",
    "\n",
    "    ## To search for files created after running the code\n",
    "    after_files = {f: os.path.getmtime(f) for f in os.listdir('.') if f.endswith('.csv')}\n",
    "\n",
    "    # Find new or modified CSV files\n",
    "    new_or_modified_files = [f for f in after_files if f not in before_files or after_files[f] != before_files[f]]\n",
    "\n",
    "    # Print the list of new or modified CSV files\n",
    "    if new_or_modified_files:\n",
    "        print('New or modified CSV files:')\n",
    "        for file in new_or_modified_files:\n",
    "            print(file)\n",
    "    else:\n",
    "        print('No new or modified CSV files.')"
   ]
  },
  {
   "cell_type": "markdown",
   "id": "cb4d18a4",
   "metadata": {},
   "source": [
    "The above code snippet generates the following files: 'lac_cor_merged.csv' and 'lac_sag_merged.csv'"
   ]
  },
  {
   "cell_type": "code",
   "execution_count": 10,
   "id": "25899ade",
   "metadata": {},
   "outputs": [],
   "source": [
    "lac_df1 = pd.read_csv('lac_merged.csv')\n",
    "lac_df2 = pd.read_csv('lac_cor_merged.csv')\n",
    "lac_df3 = pd.read_csv('lac_sag_merged.csv')"
   ]
  },
  {
   "cell_type": "code",
   "execution_count": 20,
   "id": "cd239626",
   "metadata": {},
   "outputs": [],
   "source": [
    "lac_df2.rename(columns={'ID': 'case_id'}, inplace=True)\n",
    "lac_df3.rename(columns={'ID': 'case_id'}, inplace=True)"
   ]
  },
  {
   "cell_type": "code",
   "execution_count": 21,
   "id": "4db047df",
   "metadata": {},
   "outputs": [],
   "source": [
    "lac_temp = pd.merge(lac_df1, lac_df2, on='case_id', how='inner')\n",
    "lac_merged = pd.merge(lac_temp, lac_df3, on='case_id', how='inner')"
   ]
  },
  {
   "cell_type": "code",
   "execution_count": 22,
   "id": "db54d262",
   "metadata": {},
   "outputs": [],
   "source": [
    "selected_columns = ['ncr_net_meanlac', 'ncr_net_meanlac_cor', 'ncr_net_meanlac_sag']\n",
    "mean_values = lac_merged[selected_columns].mean(axis=1)\n",
    "lac_merged['ncr_net_mean3dlac'] = mean_values\n",
    "\n",
    "selected_columns2 = ['et_meanlac', 'et_meanlac_cor', 'et_meanlac_sag']\n",
    "mean_values2 = lac_merged[selected_columns2].mean(axis=1)\n",
    "lac_merged['et_mean3dlac'] = mean_values2\n",
    "\n",
    "selected_columns3 = ['ed_meanlac', 'ed_meanlac_cor', 'ed_meanlac_sag']\n",
    "mean_values3 = lac_merged[selected_columns3].mean(axis=1)\n",
    "lac_merged['ed_mean3dlac'] = mean_values3"
   ]
  },
  {
   "cell_type": "code",
   "execution_count": 23,
   "id": "5503b212",
   "metadata": {},
   "outputs": [],
   "source": [
    "lac_merged.to_csv('3DLac.csv', index=False)"
   ]
  },
  {
   "cell_type": "markdown",
   "id": "d7ab88e0",
   "metadata": {},
   "source": [
    "### Merging Fractal Dimension and Lacunarity"
   ]
  },
  {
   "cell_type": "code",
   "execution_count": 27,
   "id": "f904e3a4",
   "metadata": {},
   "outputs": [],
   "source": [
    "frac = pd.read_csv('3dFrac.csv')\n",
    "lac = pd.read_csv('3dLac.csv')\\\n",
    "\n",
    "fraclac = pd.merge(frac, lac, on='case_id', how='inner')\n",
    "fraclac.rename(columns={'case_id': 'ID'}, inplace=True)\n",
    "fraclac.to_csv('fractal_lac_data.csv', index=False)"
   ]
  },
  {
   "cell_type": "code",
   "execution_count": null,
   "id": "5103d2ed",
   "metadata": {},
   "outputs": [],
   "source": []
  }
 ],
 "metadata": {
  "kernelspec": {
   "display_name": "Python 3 (ipykernel)",
   "language": "python",
   "name": "python3"
  },
  "language_info": {
   "codemirror_mode": {
    "name": "ipython",
    "version": 3
   },
   "file_extension": ".py",
   "mimetype": "text/x-python",
   "name": "python",
   "nbconvert_exporter": "python",
   "pygments_lexer": "ipython3",
   "version": "3.10.12"
  }
 },
 "nbformat": 4,
 "nbformat_minor": 5
}
